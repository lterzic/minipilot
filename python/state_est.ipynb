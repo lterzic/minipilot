{
 "cells": [
  {
   "cell_type": "code",
   "execution_count": 1,
   "id": "6dad0eb0-6d29-4b3c-85c5-4f613f252635",
   "metadata": {},
   "outputs": [],
   "source": [
    "import sympy\n",
    "from model import *\n",
    "\n",
    "sympy.init_printing()"
   ]
  },
  {
   "cell_type": "markdown",
   "id": "a1c11db0-b67e-451b-bc49-8e2a26180df9",
   "metadata": {},
   "source": [
    "## State transition derivation"
   ]
  },
  {
   "cell_type": "code",
   "execution_count": 3,
   "id": "6e590d61-f7b2-456f-9a72-ee4490f20da8",
   "metadata": {},
   "outputs": [],
   "source": [
    "dt = sympy.symbols(\"dt\")\n",
    "\n",
    "v_next = v + dt*a\n",
    "\n",
    "b = sympy.Matrix([[0, -wx, -wy, -wz], [wx, 0, wz, -wy], [wy, -wz, 0, wx], [wz, wy, -wx, 0]])\n",
    "qv_next = qv + (dt/2) * (b * qv)"
   ]
  },
  {
   "cell_type": "code",
   "execution_count": 7,
   "id": "62c0efe7-1bab-4434-9727-d3719f958227",
   "metadata": {},
   "outputs": [
    {
     "data": {
      "text/latex": [
       "$\\displaystyle \\left( \\left[\\begin{matrix}1 & - \\frac{dt \\omega_{x}}{2} & - \\frac{dt \\omega_{y}}{2} & - \\frac{dt \\omega_{z}}{2}\\\\\\frac{dt \\omega_{x}}{2} & 1 & \\frac{dt \\omega_{z}}{2} & - \\frac{dt \\omega_{y}}{2}\\\\\\frac{dt \\omega_{y}}{2} & - \\frac{dt \\omega_{z}}{2} & 1 & \\frac{dt \\omega_{x}}{2}\\\\\\frac{dt \\omega_{z}}{2} & \\frac{dt \\omega_{y}}{2} & - \\frac{dt \\omega_{x}}{2} & 1\\end{matrix}\\right], \\  \\left[\\begin{matrix}- \\frac{dt q_{x}}{2} & - \\frac{dt q_{y}}{2} & - \\frac{dt q_{z}}{2}\\\\\\frac{dt q_{w}}{2} & - \\frac{dt q_{z}}{2} & \\frac{dt q_{y}}{2}\\\\\\frac{dt q_{z}}{2} & \\frac{dt q_{w}}{2} & - \\frac{dt q_{x}}{2}\\\\- \\frac{dt q_{y}}{2} & \\frac{dt q_{x}}{2} & \\frac{dt q_{w}}{2}\\end{matrix}\\right]\\right)$"
      ],
      "text/plain": [
       "⎛⎡        -dt⋅ωₓ    -dt⋅ω_y   -dt⋅ω_z ⎤  ⎡-dt⋅qₓ    -dt⋅q_y   -dt⋅q_z ⎤⎞\n",
       "⎜⎢  1     ───────   ────────  ────────⎥  ⎢───────   ────────  ────────⎥⎟\n",
       "⎜⎢           2         2         2    ⎥  ⎢   2         2         2    ⎥⎟\n",
       "⎜⎢                                    ⎥  ⎢                            ⎥⎟\n",
       "⎜⎢dt⋅ωₓ              dt⋅ω_z   -dt⋅ω_y ⎥  ⎢ dt⋅q_w   -dt⋅q_z    dt⋅q_y ⎥⎟\n",
       "⎜⎢─────      1       ──────   ────────⎥  ⎢ ──────   ────────   ────── ⎥⎟\n",
       "⎜⎢  2                  2         2    ⎥  ⎢   2         2         2    ⎥⎟\n",
       "⎜⎢                                    ⎥, ⎢                            ⎥⎟\n",
       "⎜⎢dt⋅ω_y  -dt⋅ω_z              dt⋅ωₓ  ⎥  ⎢ dt⋅q_z    dt⋅q_w   -dt⋅qₓ  ⎥⎟\n",
       "⎜⎢──────  ────────     1       ─────  ⎥  ⎢ ──────    ──────   ─────── ⎥⎟\n",
       "⎜⎢  2        2                   2    ⎥  ⎢   2         2         2    ⎥⎟\n",
       "⎜⎢                                    ⎥  ⎢                            ⎥⎟\n",
       "⎜⎢dt⋅ω_z   dt⋅ω_y   -dt⋅ωₓ            ⎥  ⎢-dt⋅q_y    dt⋅qₓ     dt⋅q_w ⎥⎟\n",
       "⎜⎢──────   ──────   ───────      1    ⎥  ⎢────────   ─────     ────── ⎥⎟\n",
       "⎝⎣  2        2         2              ⎦  ⎣   2         2         2    ⎦⎠"
      ]
     },
     "execution_count": 7,
     "metadata": {},
     "output_type": "execute_result"
    }
   ],
   "source": [
    "qv_next.jacobian(qv), qv_next.jacobian(w)"
   ]
  },
  {
   "cell_type": "markdown",
   "id": "627b588c-7d8e-4eed-9847-9d7fe94feeee",
   "metadata": {},
   "source": [
    "## Observation model derivation"
   ]
  },
  {
   "cell_type": "code",
   "execution_count": 16,
   "id": "f6b0b68b-ffc9-4ddf-b353-70d5e8a952b3",
   "metadata": {},
   "outputs": [],
   "source": [
    "# Assuming a perfect (no noise and bias) accelerometer we will\n",
    "# read the acceleration of the model plus the gravity vector\n",
    "# mapped to the local coordinate frame\n",
    "a_exp = rot_v(a + gv, q.inverse())"
   ]
  },
  {
   "cell_type": "code",
   "execution_count": 18,
   "id": "1d1343c0-cbfe-41d0-882c-6c157916a9f5",
   "metadata": {},
   "outputs": [],
   "source": [
    "# For the angular velocity vector, a perfect gyro (centered, no noise, no bias)\n",
    "# will read the current state angular velocity\n",
    "w_exp = w"
   ]
  },
  {
   "cell_type": "code",
   "execution_count": 24,
   "id": "3c48f6b0-c03b-4abe-b459-8bc4c1b6f337",
   "metadata": {},
   "outputs": [
    {
     "data": {
      "text/latex": [
       "$\\displaystyle \\left( \\left[\\begin{matrix}q_{w}^{2} + q_{x}^{2} - q_{y}^{2} - q_{z}^{2} & 2 q_{w} q_{z} + 2 q_{x} q_{y} & - 2 q_{w} q_{y} + 2 q_{x} q_{z}\\\\- 2 q_{w} q_{z} + 2 q_{x} q_{y} & q_{w}^{2} - q_{x}^{2} + q_{y}^{2} - q_{z}^{2} & 2 q_{w} q_{x} + 2 q_{y} q_{z}\\\\2 q_{w} q_{y} + 2 q_{x} q_{z} & - 2 q_{w} q_{x} + 2 q_{y} q_{z} & q_{w}^{2} - q_{x}^{2} - q_{y}^{2} + q_{z}^{2}\\end{matrix}\\right], \\  \\left[\\begin{matrix}2 a_{x} q_{w} + 2 a_{y} q_{z} - 2 q_{y} \\left(a_{z} - g\\right) & 2 a_{x} q_{x} + 2 a_{y} q_{y} + 2 q_{z} \\left(a_{z} - g\\right) & - 2 a_{x} q_{y} + 2 a_{y} q_{x} + q_{w} \\left(- a_{z} + g\\right) - q_{w} \\left(a_{z} - g\\right) & - 2 a_{x} q_{z} + 2 a_{y} q_{w} + 2 q_{x} \\left(a_{z} - g\\right)\\\\- 2 a_{x} q_{z} + 2 a_{y} q_{w} + 2 q_{x} \\left(a_{z} - g\\right) & 2 a_{x} q_{y} - 2 a_{y} q_{x} + 2 q_{w} \\left(a_{z} - g\\right) & 2 a_{x} q_{x} + 2 a_{y} q_{y} + 2 q_{z} \\left(a_{z} - g\\right) & - 2 a_{x} q_{w} - 2 a_{y} q_{z} + 2 q_{y} \\left(a_{z} - g\\right)\\\\2 a_{x} q_{y} - 2 a_{y} q_{x} + 2 q_{w} \\left(a_{z} - g\\right) & 2 a_{x} q_{z} - 2 a_{y} q_{w} - 2 q_{x} \\left(a_{z} - g\\right) & 2 a_{x} q_{w} + 2 a_{y} q_{z} + q_{y} \\left(- a_{z} + g\\right) - q_{y} \\left(a_{z} - g\\right) & 2 a_{x} q_{x} + 2 a_{y} q_{y} + 2 q_{z} \\left(a_{z} - g\\right)\\end{matrix}\\right]\\right)$"
      ],
      "text/plain": [
       "⎛⎡   2     2      2      2                                                     ↪\n",
       "⎜⎢q_w  + qₓ  - q_y  - q_z     2⋅q_w⋅q_z + 2⋅qₓ⋅q_y     -2⋅q_w⋅q_y + 2⋅qₓ⋅q_z   ↪\n",
       "⎜⎢                                                                             ↪\n",
       "⎜⎢                             2     2      2      2                           ↪\n",
       "⎜⎢ -2⋅q_w⋅q_z + 2⋅qₓ⋅q_y    q_w  - qₓ  + q_y  - q_z     2⋅q_w⋅qₓ + 2⋅q_y⋅q_z   ↪\n",
       "⎜⎢                                                                             ↪\n",
       "⎜⎢                                                       2     2      2      2 ↪\n",
       "⎝⎣  2⋅q_w⋅q_y + 2⋅qₓ⋅q_z     -2⋅q_w⋅qₓ + 2⋅q_y⋅q_z    q_w  - qₓ  - q_y  + q_z  ↪\n",
       "\n",
       "↪ ⎤                                                                            ↪\n",
       "↪ ⎥                                                                            ↪\n",
       "↪ ⎥  ⎡2⋅aₓ⋅q_w + 2⋅a_y⋅q_z - 2⋅q_y⋅(a_z - g)  2⋅aₓ⋅qₓ + 2⋅a_y⋅q_y + 2⋅q_z⋅(a_z ↪\n",
       "↪ ⎥  ⎢                                                                         ↪\n",
       "↪ ⎥, ⎢-2⋅aₓ⋅q_z + 2⋅a_y⋅q_w + 2⋅qₓ⋅(a_z - g)  2⋅aₓ⋅q_y - 2⋅a_y⋅qₓ + 2⋅q_w⋅(a_z ↪\n",
       "↪ ⎥  ⎢                                                                         ↪\n",
       "↪ ⎥  ⎣2⋅aₓ⋅q_y - 2⋅a_y⋅qₓ + 2⋅q_w⋅(a_z - g)   2⋅aₓ⋅q_z - 2⋅a_y⋅q_w - 2⋅qₓ⋅(a_z ↪\n",
       "↪ ⎦                                                                            ↪\n",
       "\n",
       "↪                                                                              ↪\n",
       "↪                                                                              ↪\n",
       "↪  - g)  -2⋅aₓ⋅q_y + 2⋅a_y⋅qₓ + q_w⋅(-a_z + g) - q_w⋅(a_z - g)  -2⋅aₓ⋅q_z + 2⋅ ↪\n",
       "↪                                                                              ↪\n",
       "↪  - g)          2⋅aₓ⋅qₓ + 2⋅a_y⋅q_y + 2⋅q_z⋅(a_z - g)          -2⋅aₓ⋅q_w - 2⋅ ↪\n",
       "↪                                                                              ↪\n",
       "↪  - g)  2⋅aₓ⋅q_w + 2⋅a_y⋅q_z + q_y⋅(-a_z + g) - q_y⋅(a_z - g)   2⋅aₓ⋅qₓ + 2⋅a ↪\n",
       "↪                                                                              ↪\n",
       "\n",
       "↪                           ⎞\n",
       "↪                           ⎟\n",
       "↪ a_y⋅q_w + 2⋅qₓ⋅(a_z - g) ⎤⎟\n",
       "↪                          ⎥⎟\n",
       "↪ a_y⋅q_z + 2⋅q_y⋅(a_z - g)⎥⎟\n",
       "↪                          ⎥⎟\n",
       "↪ _y⋅q_y + 2⋅q_z⋅(a_z - g) ⎦⎟\n",
       "↪                           ⎠"
      ]
     },
     "execution_count": 24,
     "metadata": {},
     "output_type": "execute_result"
    }
   ],
   "source": [
    "a_exp.jacobian(a), a_exp.jacobian(qv)"
   ]
  },
  {
   "cell_type": "code",
   "execution_count": null,
   "id": "a06a9fc6-239b-4525-b4aa-5a6f05d246d3",
   "metadata": {},
   "outputs": [],
   "source": []
  }
 ],
 "metadata": {
  "kernelspec": {
   "display_name": "Python 3 (ipykernel)",
   "language": "python",
   "name": "python3"
  },
  "language_info": {
   "codemirror_mode": {
    "name": "ipython",
    "version": 3
   },
   "file_extension": ".py",
   "mimetype": "text/x-python",
   "name": "python",
   "nbconvert_exporter": "python",
   "pygments_lexer": "ipython3",
   "version": "3.12.3"
  }
 },
 "nbformat": 4,
 "nbformat_minor": 5
}
