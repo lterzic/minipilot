{
 "cells": [
  {
   "cell_type": "markdown",
   "id": "367a56df-3f58-4496-97c6-e79d724e0946",
   "metadata": {},
   "source": [
    "# Copter model derivation"
   ]
  },
  {
   "cell_type": "code",
   "execution_count": 15,
   "id": "57db10e5-e80b-484a-bed4-867a53ce4c24",
   "metadata": {},
   "outputs": [],
   "source": [
    "import sympy\n",
    "from model import *\n",
    "\n",
    "sympy.init_printing()"
   ]
  },
  {
   "cell_type": "code",
   "execution_count": 24,
   "id": "a9133113-8f67-4e16-85de-4d17820e44da",
   "metadata": {},
   "outputs": [],
   "source": [
    "# Thrust, mass, drag coeff\n",
    "T, m, cd = sympy.symbols(\"T m c_d\")\n",
    "\n",
    "# Torque vector\n",
    "taux, tauy, tauz = sympy.symbols(\"tau_x tau_y tau_z\")\n",
    "tau = sympy.Matrix([taux, tauy, tauz])\n",
    "\n",
    "# Simplified inertia matrix\n",
    "Ixx, Iyy, Izz = sympy.symbols(\"I_xx I_yy I_zz\")\n",
    "I = sympy.Matrix([[Ixx, 0, 0], [0, Iyy, 0], [0, 0, Izz]])"
   ]
  },
  {
   "cell_type": "code",
   "execution_count": 27,
   "id": "a7acd909-b755-48f7-9abf-a528f0553a28",
   "metadata": {},
   "outputs": [
    {
     "data": {
      "text/latex": [
       "$\\displaystyle \\left( \\left[\\begin{matrix}\\frac{2 T q_{w} q_{y} + 2 T q_{x} q_{z} - c_{d} v_{x}}{m}\\\\\\frac{- 2 T q_{w} q_{x} + 2 T q_{y} q_{z} - c_{d} v_{y}}{m}\\\\\\frac{T q_{w}^{2} - T q_{x}^{2} - T q_{y}^{2} + T q_{z}^{2} - c_{d} v_{z} - g m}{m}\\end{matrix}\\right], \\  \\left[\\begin{matrix}\\frac{I_{yy} \\omega_{y} \\omega_{z} - I_{zz} \\omega_{y} \\omega_{z} + \\tau_{x}}{I_{xx}}\\\\\\frac{- I_{xx} \\omega_{x} \\omega_{z} + I_{zz} \\omega_{x} \\omega_{z} + \\tau_{y}}{I_{yy}}\\\\\\frac{I_{xx} \\omega_{x} \\omega_{y} - I_{yy} \\omega_{x} \\omega_{y} + \\tau_{z}}{I_{zz}}\\end{matrix}\\right]\\right)$"
      ],
      "text/plain": [
       "⎛⎡       2⋅T⋅q_w⋅q_y + 2⋅T⋅qₓ⋅q_z - c_d⋅vₓ        ⎤                            ↪\n",
       "⎜⎢       ─────────────────────────────────        ⎥  ⎡I_yy⋅ω_y⋅ω_z - I_zz⋅ω_y⋅ ↪\n",
       "⎜⎢                       m                        ⎥  ⎢──────────────────────── ↪\n",
       "⎜⎢                                                ⎥  ⎢              Iₓₓ        ↪\n",
       "⎜⎢      -2⋅T⋅q_w⋅qₓ + 2⋅T⋅q_y⋅q_z - c_d⋅v_y       ⎥  ⎢                         ↪\n",
       "⎜⎢      ───────────────────────────────────       ⎥  ⎢-Iₓₓ⋅ωₓ⋅ω_z + I_zz⋅ωₓ⋅ω_ ↪\n",
       "⎜⎢                       m                        ⎥, ⎢──────────────────────── ↪\n",
       "⎜⎢                                                ⎥  ⎢             I_yy        ↪\n",
       "⎜⎢     2       2        2        2                ⎥  ⎢                         ↪\n",
       "⎜⎢T⋅q_w  - T⋅qₓ  - T⋅q_y  + T⋅q_z  - c_d⋅v_z - g⋅m⎥  ⎢ Iₓₓ⋅ωₓ⋅ω_y - I_yy⋅ωₓ⋅ω_ ↪\n",
       "⎜⎢────────────────────────────────────────────────⎥  ⎢ ─────────────────────── ↪\n",
       "⎝⎣                       m                        ⎦  ⎣              I_zz       ↪\n",
       "\n",
       "↪          ⎞\n",
       "↪ ω_z + τₓ⎤⎟\n",
       "↪ ────────⎥⎟\n",
       "↪         ⎥⎟\n",
       "↪         ⎥⎟\n",
       "↪ z + τ_y ⎥⎟\n",
       "↪ ─────── ⎥⎟\n",
       "↪         ⎥⎟\n",
       "↪         ⎥⎟\n",
       "↪ y + τ_z ⎥⎟\n",
       "↪ ─────── ⎥⎟\n",
       "↪         ⎦⎠"
      ]
     },
     "execution_count": 27,
     "metadata": {},
     "output_type": "execute_result"
    }
   ],
   "source": [
    "# Predicted acceleration = gravity + thrust - air drag\n",
    "# Assuming thrust is always generated in the local UP direction\n",
    "ap = gv + rot_v(UP * (T/m), q) - v * (cd/m)\n",
    "\n",
    "# Predicted angular acceleration\n",
    "aap = I**-1 * (tau - w.cross(I * w))\n",
    "\n",
    "sympy.simplify(ap), sympy.simplify(aap)"
   ]
  },
  {
   "cell_type": "code",
   "execution_count": 28,
   "id": "a458707a-56c5-45dc-9ca2-35249ce0c9de",
   "metadata": {},
   "outputs": [
    {
     "data": {
      "text/latex": [
       "$\\displaystyle \\left( \\left[\\begin{matrix}- \\frac{c_{d}}{m} & 0 & 0\\\\0 & - \\frac{c_{d}}{m} & 0\\\\0 & 0 & - \\frac{c_{d}}{m}\\end{matrix}\\right], \\  \\left[\\begin{matrix}\\frac{2 T q_{y}}{m} & \\frac{2 T q_{z}}{m} & \\frac{2 T q_{w}}{m} & \\frac{2 T q_{x}}{m}\\\\- \\frac{2 T q_{x}}{m} & - \\frac{2 T q_{w}}{m} & \\frac{2 T q_{z}}{m} & \\frac{2 T q_{y}}{m}\\\\\\frac{2 T q_{w}}{m} & - \\frac{2 T q_{x}}{m} & - \\frac{2 T q_{y}}{m} & \\frac{2 T q_{z}}{m}\\end{matrix}\\right]\\right)$"
      ],
      "text/plain": [
       "⎛⎡-c_d               ⎤  ⎡2⋅T⋅q_y    2⋅T⋅q_z    2⋅T⋅q_w   2⋅T⋅qₓ ⎤⎞\n",
       "⎜⎢─────    0      0  ⎥  ⎢───────    ───────    ───────   ────── ⎥⎟\n",
       "⎜⎢  m                ⎥  ⎢   m          m          m        m    ⎥⎟\n",
       "⎜⎢                   ⎥  ⎢                                       ⎥⎟\n",
       "⎜⎢       -c_d        ⎥  ⎢-2⋅T⋅qₓ   -2⋅T⋅q_w    2⋅T⋅q_z   2⋅T⋅q_y⎥⎟\n",
       "⎜⎢  0    ─────    0  ⎥, ⎢────────  ─────────   ───────   ───────⎥⎟\n",
       "⎜⎢         m         ⎥  ⎢   m          m          m         m   ⎥⎟\n",
       "⎜⎢                   ⎥  ⎢                                       ⎥⎟\n",
       "⎜⎢              -c_d ⎥  ⎢2⋅T⋅q_w   -2⋅T⋅qₓ    -2⋅T⋅q_y   2⋅T⋅q_z⎥⎟\n",
       "⎜⎢  0      0    ─────⎥  ⎢───────   ────────   ─────────  ───────⎥⎟\n",
       "⎝⎣                m  ⎦  ⎣   m         m           m         m   ⎦⎠"
      ]
     },
     "execution_count": 28,
     "metadata": {},
     "output_type": "execute_result"
    }
   ],
   "source": [
    "# Derivative (jacobian) of acceleration with respect to state variables\n",
    "ap.jacobian(v), ap.jacobian(q.to_Matrix())"
   ]
  },
  {
   "cell_type": "code",
   "execution_count": 29,
   "id": "f50714c2-b4cf-4762-9754-dc73fe6318e1",
   "metadata": {},
   "outputs": [
    {
     "data": {
      "text/latex": [
       "$\\displaystyle \\left[\\begin{matrix}0 & \\frac{\\omega_{z} \\left(I_{yy} - I_{zz}\\right)}{I_{xx}} & \\frac{\\omega_{y} \\left(I_{yy} - I_{zz}\\right)}{I_{xx}}\\\\\\frac{\\omega_{z} \\left(- I_{xx} + I_{zz}\\right)}{I_{yy}} & 0 & \\frac{\\omega_{x} \\left(- I_{xx} + I_{zz}\\right)}{I_{yy}}\\\\\\frac{\\omega_{y} \\left(I_{xx} - I_{yy}\\right)}{I_{zz}} & \\frac{\\omega_{x} \\left(I_{xx} - I_{yy}\\right)}{I_{zz}} & 0\\end{matrix}\\right]$"
      ],
      "text/plain": [
       "⎡                   ω_z⋅(I_yy - I_zz)  ω_y⋅(I_yy - I_zz)⎤\n",
       "⎢        0          ─────────────────  ─────────────────⎥\n",
       "⎢                          Iₓₓ                Iₓₓ       ⎥\n",
       "⎢                                                       ⎥\n",
       "⎢ω_z⋅(-Iₓₓ + I_zz)                     ωₓ⋅(-Iₓₓ + I_zz) ⎥\n",
       "⎢─────────────────          0          ──────────────── ⎥\n",
       "⎢      I_yy                                  I_yy       ⎥\n",
       "⎢                                                       ⎥\n",
       "⎢ω_y⋅(Iₓₓ - I_yy)    ωₓ⋅(Iₓₓ - I_yy)                    ⎥\n",
       "⎢────────────────    ───────────────           0        ⎥\n",
       "⎣      I_zz               I_zz                          ⎦"
      ]
     },
     "execution_count": 29,
     "metadata": {},
     "output_type": "execute_result"
    }
   ],
   "source": [
    "# Derivative (jacobian) of angular acceleration with respect to state variables\n",
    "sympy.simplify(aap.jacobian(w))"
   ]
  },
  {
   "cell_type": "code",
   "execution_count": null,
   "id": "c61fb0a2-db9a-4a14-997d-14e1fd0964a3",
   "metadata": {},
   "outputs": [],
   "source": []
  }
 ],
 "metadata": {
  "kernelspec": {
   "display_name": "Python 3 (ipykernel)",
   "language": "python",
   "name": "python3"
  },
  "language_info": {
   "codemirror_mode": {
    "name": "ipython",
    "version": 3
   },
   "file_extension": ".py",
   "mimetype": "text/x-python",
   "name": "python",
   "nbconvert_exporter": "python",
   "pygments_lexer": "ipython3",
   "version": "3.12.3"
  }
 },
 "nbformat": 4,
 "nbformat_minor": 5
}
